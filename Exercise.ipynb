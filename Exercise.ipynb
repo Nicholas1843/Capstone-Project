{
 "cells": [
  {
   "cell_type": "code",
   "execution_count": 11,
   "metadata": {},
   "outputs": [
    {
     "name": "stdout",
     "output_type": "stream",
     "text": [
      "JC0210DS\n"
     ]
    }
   ],
   "source": [
    "import math\n",
    "\n",
    "\n",
    "# Q1\n",
    "def num(x):\n",
    "    y = str(x)\n",
    "\n",
    "    # Total\n",
    "    total = 0\n",
    "    for digit in str(x):\n",
    "        total += int(digit)\n",
    "    print(total)\n",
    "\n",
    "    # Reversed\n",
    "    print(y[::-1])\n",
    "\n",
    "\n",
    "# num(4567)\n",
    "\n",
    "\n",
    "# Q2\n",
    "def coord():\n",
    "    x1 = int(input(\"x1: \"))\n",
    "    y1 = int(input(\"y1: \"))\n",
    "    x2 = int(input(\"x2: \"))\n",
    "    y2 = int(input(\"y2: \"))\n",
    "    # Slope\n",
    "    slope = (y2 - y1) / (x2 - x1)\n",
    "    print(int(slope))\n",
    "\n",
    "    # Distance\n",
    "    point1 = [x1, y1]\n",
    "    point2 = [x2, y2]\n",
    "    distance = math.dist(point1, point2)\n",
    "    print(round(distance, 3))\n",
    "\n",
    "\n",
    "# coord()\n",
    "\n",
    "\n",
    "# Q3\n",
    "def swap(a):\n",
    "    list1 = a.split(\", \")\n",
    "    str_a = list1[0]\n",
    "    str_b = list1[1]\n",
    "    new_a = str_b[:3] + str_a[3:]\n",
    "    new_b = str_a[:3] + str_b[3:]\n",
    "    print(new_a + \" \" + new_b)\n",
    "\n",
    "\n",
    "# swap('purwa, dhika')\n",
    "\n",
    "\n",
    "# Q4\n",
    "def char(a, b):\n",
    "    # first 2 chars\n",
    "    first = a[0] + b[0]\n",
    "    mid = a[int(len(a)/2)] + b[int(len(b)/2)]\n",
    "    last = a[int(len(a))-1] + b[int(len(b))-1]\n",
    "    print(first + mid + last)\n",
    "\n",
    "\n",
    "# char(\"joGjaKARTa\", \"PurWAdhiKA\")\n",
    "\n",
    "\n",
    "# Q5\n",
    "def middle(str1, str2):\n",
    "    mid_index = int(len(str1)/2)\n",
    "\n",
    "    a = str1[:mid_index:] + str2 + str1[mid_index:]\n",
    "    print(a)\n",
    "\n",
    "# middle(\"JCDS\", \"0210\")"
   ]
  },
  {
   "cell_type": "markdown",
   "metadata": {},
   "source": []
  },
  {
   "cell_type": "code",
   "execution_count": null,
   "metadata": {},
   "outputs": [],
   "source": []
  }
 ],
 "metadata": {
  "kernelspec": {
   "display_name": "Python 3",
   "language": "python",
   "name": "python3"
  },
  "language_info": {
   "codemirror_mode": {
    "name": "ipython",
    "version": 3
   },
   "file_extension": ".py",
   "mimetype": "text/x-python",
   "name": "python",
   "nbconvert_exporter": "python",
   "pygments_lexer": "ipython3",
   "version": "3.9.13"
  },
  "orig_nbformat": 4
 },
 "nbformat": 4,
 "nbformat_minor": 2
}
