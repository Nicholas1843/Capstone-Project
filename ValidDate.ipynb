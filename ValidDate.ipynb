{
 "cells": [
  {
   "cell_type": "code",
   "execution_count": 29,
   "metadata": {},
   "outputs": [],
   "source": [
    "def year_valid(year):\n",
    "    if year > 0:\n",
    "        return True\n",
    "    else:\n",
    "        return False\n",
    "\n",
    "def month_valid(month):\n",
    "    if 0 < month <= 12:\n",
    "        return True\n",
    "    else:\n",
    "        return False\n",
    "\n",
    "def day_valid(day, month, year):\n",
    "    month_days = {1: 31, 2: 28, 3: 31, 4: 30, 5: 31, 6: 30, 7: 31, 8: 31, 9: 30, 10: 31, 11: 30, 12: 31} ## Library for days in month\n",
    "\n",
    "    if year % 400 == 0 or year % 100 != 0 and year % 4 == 0: ## Check if leap year\n",
    "       month_days[2] = 29 ## if leap year, change number of days in February to 29\n",
    "    else:\n",
    "       month_days[2] = 28\n",
    "\n",
    "    if str(day).isdigit(): ## Check if input day is int\n",
    "        if 0 < day <= month_days[month]:\n",
    "            return True\n",
    "        else:\n",
    "            return False\n",
    "    return False\n",
    "\n",
    "def isValidDate(year, month, day):\n",
    "    if str(year).isdigit(): # Check if input year is int\n",
    "        if str(month).isdigit(): # check if input month is int\n",
    "            year_validate = year_valid(year)\n",
    "            month_validate = month_valid(month)\n",
    "        else:\n",
    "            year_validate = False\n",
    "            month_validate = False\n",
    "    else:\n",
    "        year_validate = False\n",
    "        month_validate = False\n",
    "        \n",
    "    if year_validate == True and month_validate == True:\n",
    "        return day_valid(day, month, year) # Only call day_valid if other functions are true to prevent KeyError\n",
    "    else:\n",
    "        return False\n",
    "   \n",
    "assert isValidDate(2001, 2, 29) == False\n",
    "assert isValidDate(2029, 13, 1) == False\n",
    "assert isValidDate(1000000, 1, 1) == True\n",
    "assert isValidDate(2015, 4, 31) == False\n",
    "assert isValidDate(400, 2, 29) == True\n",
    "assert isValidDate(100, 2, 29) == False\n",
    "assert isValidDate(4, 2, 29) == True"
   ]
  },
  {
   "cell_type": "code",
   "execution_count": null,
   "metadata": {},
   "outputs": [],
   "source": []
  }
 ],
 "metadata": {
  "kernelspec": {
   "display_name": "Python 3",
   "language": "python",
   "name": "python3"
  },
  "language_info": {
   "codemirror_mode": {
    "name": "ipython",
    "version": 3
   },
   "file_extension": ".py",
   "mimetype": "text/x-python",
   "name": "python",
   "nbconvert_exporter": "python",
   "pygments_lexer": "ipython3",
   "version": "3.9.13"
  },
  "orig_nbformat": 4
 },
 "nbformat": 4,
 "nbformat_minor": 2
}
