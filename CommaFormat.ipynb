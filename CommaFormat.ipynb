{
 "cells": [
  {
   "cell_type": "code",
   "execution_count": 23,
   "metadata": {},
   "outputs": [
    {
     "name": "stdout",
     "output_type": "stream",
     "text": [
      "a,sda,sda,sda\n"
     ]
    }
   ],
   "source": [
    "def commaFormat(n):\n",
    "    n_string = str(n)\n",
    "    if \".\" in n_string:\n",
    "        find_decimal = n_string.find('.')\n",
    "        decimal = n_string[find_decimal:]\n",
    "        n_string = n_string[:find_decimal]\n",
    "    else:\n",
    "        decimal = \"\"\n",
    "\n",
    "    result = \"\"\n",
    "    triplet = \"\"\n",
    "    for i in range(len(n_string) - 1, -1, -1):\n",
    "        if len(triplet) == 3:\n",
    "            result =  n_string[i] + \",\" + result\n",
    "            triplet = n_string[i]\n",
    "        else:\n",
    "            result = n_string[i] + result\n",
    "            triplet = n_string[i] + triplet\n",
    "    return result + decimal\n",
    "\n",
    "\n",
    "assert commaFormat(1) == '1'\n",
    "assert commaFormat(10) == '10'\n",
    "assert commaFormat(100) == '100'\n",
    "assert commaFormat(1000) == '1,000'\n",
    "assert commaFormat(10000) == '10,000'\n",
    "assert commaFormat(100000) == '100,000'\n",
    "assert commaFormat(1000000) == '1,000,000'\n",
    "assert commaFormat(1234567890) == '1,234,567,890'\n",
    "assert commaFormat(1000.123456) == '1,000.123456'\n",
    "\n",
    "\n"
   ]
  },
  {
   "cell_type": "code",
   "execution_count": null,
   "metadata": {},
   "outputs": [],
   "source": []
  }
 ],
 "metadata": {
  "kernelspec": {
   "display_name": "Python 3",
   "language": "python",
   "name": "python3"
  },
  "language_info": {
   "codemirror_mode": {
    "name": "ipython",
    "version": 3
   },
   "file_extension": ".py",
   "mimetype": "text/x-python",
   "name": "python",
   "nbconvert_exporter": "python",
   "pygments_lexer": "ipython3",
   "version": "3.9.13"
  },
  "orig_nbformat": 4
 },
 "nbformat": 4,
 "nbformat_minor": 2
}
